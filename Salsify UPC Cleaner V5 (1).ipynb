{
 "cells": [
  {
   "cell_type": "code",
   "execution_count": 1,
   "id": "a886eb8f",
   "metadata": {},
   "outputs": [],
   "source": [
    "#import necessary libraries\n",
    "import pandas as pd\n",
    "import numpy as np\n",
    "import datetime as dt\n",
    "import matplotlib.pyplot as plt\n",
    "import matplotlib.style as style\n",
    "import seaborn as sns\n",
    "import re\n",
    "\n",
    "#read in .csv files as df\n",
    "edge_data = pd.read_csv(\"edge_us_products_full.csv\")\n",
    "salsify_data = pd.read_csv(\"salsify_us_products.csv\", low_memory = False)"
   ]
  },
  {
   "cell_type": "code",
   "execution_count": 2,
   "id": "110a2821",
   "metadata": {},
   "outputs": [
    {
     "name": "stdout",
     "output_type": "stream",
     "text": [
      "116\n",
      "44049\n",
      "[nan 'Active-Purchased Item' 'Active-Stock End Item'\n",
      " 'Inactive - Use Up Inventory' 'Obsolete']\n"
     ]
    }
   ],
   "source": [
    "#isolate edge and salsify amazon data\n",
    "edge_amzn = edge_data[edge_data[\"upc\"] != \"Not found in VC\"]\n",
    "salsify_amzn = salsify_data\n",
    "\n",
    "print(edge_amzn.shape[0])\n",
    "print(salsify_amzn.shape[0])\n",
    "\n",
    "print(salsify_amzn[\"Product status (code)\"].unique())"
   ]
  },
  {
   "cell_type": "code",
   "execution_count": 3,
   "id": "ec1c3aa1",
   "metadata": {},
   "outputs": [
    {
     "name": "stdout",
     "output_type": "stream",
     "text": [
      "Index(['Unnamed: 0', 'retailer', 'rpc', 'upc', 'from Salsify', 'Unnamed: 5',\n",
      "       'mpc', 'product_description', 'brand', 'category', 'min_price',\n",
      "       'max_price', 'status', 'date_modified', 'last_modified_by',\n",
      "       'Hierarchy Mid Level', 'Segment', 'Hierarchy Lowest Level',\n",
      "       'Priority SKU'],\n",
      "      dtype='object')\n"
     ]
    }
   ],
   "source": [
    "print(edge_amzn.columns)"
   ]
  },
  {
   "cell_type": "code",
   "execution_count": 4,
   "id": "5751543b",
   "metadata": {},
   "outputs": [
    {
     "name": "stdout",
     "output_type": "stream",
     "text": [
      "Index(['Entity ID', 'Product Sequencing L1', 'Target Market(s)',\n",
      "       'Target Market(s).1', 'BIC Item Name', 'Product Sequencing L1 Code',\n",
      "       'Local Code', 'Product Sequencing L2', 'Product Sequencing L2 Code',\n",
      "       'Customer',\n",
      "       ...\n",
      "       'Hazardous ingredients (CLP)', 'Sales Packaging',\n",
      "       'SEQ 5 - Environmental certification - NF 400',\n",
      "       'SEQ 5 - Environmental declaration - % Recycled Material',\n",
      "       'Signal word (CLP)', 'Stocking Type-en-GB', 'test prop - en-GB',\n",
      "       'salsify:parent_id', 'salsify:data_inheritance_hierarchy_level_id',\n",
      "       'salsify:profile_asset_id'],\n",
      "      dtype='object', length=1293)\n"
     ]
    }
   ],
   "source": [
    "print(salsify_amzn.columns)"
   ]
  },
  {
   "cell_type": "code",
   "execution_count": 5,
   "id": "f2fdc34f",
   "metadata": {},
   "outputs": [
    {
     "name": "stdout",
     "output_type": "stream",
     "text": [
      "115\n",
      "0\n",
      "\n",
      "\n",
      "70330185104    2\n",
      "70330722620    1\n",
      "70330411715    1\n",
      "70330522909    1\n",
      "70330537224    1\n",
      "Name: upc, dtype: int64\n",
      "\n",
      "\n",
      "['Velocity' 'Comfort 3 Hybrid']\n",
      "\n",
      "\n"
     ]
    }
   ],
   "source": [
    "#get UPCs from edge data\n",
    "edge_upc_list = edge_amzn[\"upc\"].unique()\n",
    "print(len(edge_upc_list))\n",
    "print(edge_amzn[edge_amzn[\"upc\"].isnull()].shape[0])\n",
    "print(\"\\n\")\n",
    "\n",
    "#85 unique, 51 null, 18 duplicates\n",
    "print(edge_amzn[\"upc\"].value_counts().head())\n",
    "print(\"\\n\")\n",
    "\n",
    "#identify where dupblicates are\n",
    "dup_upc_list = edge_amzn[\"upc\"].value_counts().head(3).index\n",
    "print(edge_amzn.loc[edge_amzn[\"upc\"].isin(dup_upc_list), \"brand\"].unique())\n",
    "print(\"\\n\")\n",
    "\n",
    "#UPC 70330185104 has two entries in edge data\n",
    "\n",
    "#130 entries, 81 unique UPCs, 50 null"
   ]
  },
  {
   "cell_type": "code",
   "execution_count": 6,
   "id": "2532a50c",
   "metadata": {},
   "outputs": [
    {
     "name": "stdout",
     "output_type": "stream",
     "text": [
      "70330185104\n",
      "70330362055\n",
      "70330312579\n",
      "70330341289\n",
      "70330346857\n",
      "70330655508\n",
      "70330730274\n"
     ]
    }
   ],
   "source": [
    "for num in range(1,8):\n",
    "    print(edge_amzn[\"upc\"].unique()[num])\n",
    "    \n",
    "#salsify_amzn.to_csv(\"salsify_amzn_us_products.csv\")\n"
   ]
  },
  {
   "cell_type": "code",
   "execution_count": 7,
   "id": "c8d5d99f",
   "metadata": {},
   "outputs": [
    {
     "name": "stdout",
     "output_type": "stream",
     "text": [
      "PACKAGES\n",
      "PACKAGES.1\n",
      "PACKAGES.2\n",
      "PACKAGES.3\n"
     ]
    }
   ],
   "source": [
    "pd.options.mode.chained_assignment = None\n",
    "\n",
    "#goal - end up with column of UPCs for salsify_amzn\n",
    "#look for UPC in numeric columns, as part of text columns\n",
    "\n",
    "#numeric columns - \"EAN 13 - UPC for Sales Packaging\", \"EAN-UPC for Inner Case\"\n",
    "#string columns - \"Child GTINs\", \"Child GTINs.1\", \"Child GTINs.2\", \"PACKAGES\"\n",
    "\n",
    "#additional columns - \"Case GTIN\", \"EAN 14 -UPC for Outer Case\", \"Inner GTIN\"\n",
    "\n",
    "#create new dataframe with index, value for each of these columns\n",
    "upc_num_col = [\"EAN 13 - UPC for Sales Packaging\",\"EAN-UPC for Inner Case\",\"Inner GTIN\",\"EAN 14 -UPC for Outer Case\"]\n",
    "upc_num_col.append(\"Case GTIN\")\n",
    "salsify_upc = salsify_amzn.loc[:,upc_num_col]\n",
    "#print(salsify_upc.head())\n",
    "\n",
    "for col in salsify_amzn.columns:\n",
    "    if re.search(\"PACKAGES\",col):\n",
    "        print(col)"
   ]
  },
  {
   "cell_type": "code",
   "execution_count": 8,
   "id": "d6291672",
   "metadata": {
    "scrolled": true
   },
   "outputs": [
    {
     "name": "stdout",
     "output_type": "stream",
     "text": [
      "24122\n",
      "\n",
      "\n",
      "EAN 13 - UPC for Sales Packaging    16329\n",
      "EAN-UPC for Inner Case              17944\n",
      "Inner GTIN                          17947\n",
      "EAN 14 -UPC for Outer Case          15516\n",
      "Case GTIN                           15527\n",
      "Child GTINs                         14911\n",
      "Child GTINs.1                       17089\n",
      "Child GTINs.2                       20784\n",
      "PACKAGES                            14939\n",
      "PACKAGES.1                          17125\n",
      "PACKAGES.2                          21572\n",
      "PACKAGES.3                          24120\n",
      "dtype: int64\n",
      "\n",
      "\n",
      "3470\n",
      "3420\n",
      "3431\n",
      "5284\n",
      "5277\n",
      "5613\n",
      "4008\n",
      "1245\n",
      "4678\n",
      "4298\n",
      "1170\n",
      "3\n",
      "Index(['EAN 13 - UPC for Sales Packaging', 'EAN-UPC for Inner Case',\n",
      "       'Inner GTIN', 'EAN 14 -UPC for Outer Case', 'Case GTIN', 'Child GTINs',\n",
      "       'Child GTINs.1', 'Child GTINs.2', 'PACKAGES', 'PACKAGES.1',\n",
      "       'PACKAGES.2', 'PACKAGES.3'],\n",
      "      dtype='object')\n"
     ]
    }
   ],
   "source": [
    "#print(salsify_amzn[[\"Child GTINs\", \"Child GTINs.1\", \"Child GTINs.2\", \"PACKAGES\"]])\n",
    "list_str = [\"Child GTINs\", \"Child GTINs.1\", \"Child GTINs.2\", \"PACKAGES\", \"PACKAGES.1\", \"PACKAGES.2\", \"PACKAGES.3\"]\n",
    "for key in list_str:\n",
    "    salsify_upc[key] = salsify_amzn[key].str.split(\"_\").str[-1].astype(float)\n",
    "    \n",
    "salsify_upc = salsify_upc[salsify_upc.notnull().sum(axis=1) > 0]\n",
    "#print(salsify_upc)\n",
    "print(salsify_upc.shape[0])\n",
    "print(\"\\n\")\n",
    "\n",
    "#salsify_upc.to_csv(\"upc_list.csv\")\n",
    "#narrowed down from 44049 to 9346\n",
    "\n",
    "print(salsify_upc.isnull().sum())\n",
    "print(\"\\n\")\n",
    "\n",
    "for column in salsify_upc.columns:\n",
    "    print(len(salsify_upc[column].unique()))\n",
    "\n",
    "#salsify_upc.to_csv(\"upc_list_2\")\n",
    "print(salsify_upc.columns)"
   ]
  },
  {
   "cell_type": "code",
   "execution_count": 9,
   "id": "f0266ca9",
   "metadata": {},
   "outputs": [
    {
     "name": "stdout",
     "output_type": "stream",
     "text": [
      "['70330145405', '70330185104', '70330362055', '70330312579', '70330341289', '70330346857', '70330655508', '70330730274', '70330739789', '70330682719', '70330189867', '70330189874', '70330195141', '70330730281', '70330740945', '70330361591', '70330522909', '70330522916', '70330358157', '70330355651', '70330534117', '70330534124', '70330534094', '70330534100', '70330351561', '70330432109', '70330188389', '70330730809', '70330437425', '70330437432', '70330437364', '70330196490', '70330176331', '70330532137', '70330524873', '70330131620', '70330531390', '70330524866', '70330531383', '70330181304', '70330739772', '70330123465', '70330196506', '70330719873', '70330748262', '70330747845', '70330748279', '70330743274', '70330144088', '70330522121', '70330411715', '70330507906', '70330530577', '70330529793', '70330505896', '70330508156', '70330905764', '70330417557', '70330426566', '70330433649', '70330406964', '70330417144', '70330362086', '70330371422', '70330722620', '70330743489', '70330743465', '70330743472', '70330743496', '70330743595', '70330743588', '70330743571', '70330745919', '70330723399', '70330246232', '70330366046', '70330364660', '70330742192', '70330196513', '70330343610', '70330143470', '70330375291', '70330338999', '70330363281', '70330436756', '70330436596', '70330537392', '70330537071', '70330373365', '70330373372', '70330373662', '70330537194', '70330537200', '70330370852', '70330370869', '70330537163', '70330537170', '70330535053', '70330527461', '70330131613', '70330747203', '70330746800', '70330747197', '70330748460', '70330522138', '70330537224', '70330537439', '70330507456', '70330435285', '70330437661', '70330375468', '70330364417', '70330536920', '70330748309', '70330748316']\n",
      "Index(['EAN 13 - UPC for Sales Packaging', 'EAN-UPC for Inner Case',\n",
      "       'Inner GTIN', 'EAN 14 -UPC for Outer Case', 'Case GTIN', 'Child GTINs',\n",
      "       'Child GTINs.1', 'Child GTINs.2', 'PACKAGES', 'PACKAGES.1',\n",
      "       'PACKAGES.2', 'PACKAGES.3'],\n",
      "      dtype='object')\n"
     ]
    }
   ],
   "source": [
    "#for each row, loop through each column, check if in edge_upc_list, assign code as upc for row, set boolean\n",
    "edge_upc_list = edge_upc_list.tolist()\n",
    "edge_upc_list = [int(x) for x in edge_upc_list]\n",
    "edge_upc_list = [str(x) for x in edge_upc_list]\n",
    "\n",
    "print(edge_upc_list)\n",
    "print(salsify_upc.columns)\n"
   ]
  },
  {
   "cell_type": "code",
   "execution_count": 10,
   "id": "bdf7d535",
   "metadata": {},
   "outputs": [
    {
     "name": "stdout",
     "output_type": "stream",
     "text": [
      "24122\n",
      "Index(['EAN 13 - UPC for Sales Packaging', 'EAN-UPC for Inner Case',\n",
      "       'Inner GTIN', 'EAN 14 -UPC for Outer Case', 'Case GTIN', 'Child GTINs',\n",
      "       'Child GTINs.1', 'Child GTINs.2', 'PACKAGES', 'PACKAGES.1',\n",
      "       'PACKAGES.2', 'PACKAGES.3'],\n",
      "      dtype='object')\n"
     ]
    }
   ],
   "source": [
    "print(salsify_upc.shape[0])\n",
    "print(salsify_upc.columns)"
   ]
  },
  {
   "cell_type": "code",
   "execution_count": 11,
   "id": "cbab1a95",
   "metadata": {
    "scrolled": false
   },
   "outputs": [
    {
     "name": "stdout",
     "output_type": "stream",
     "text": [
      "620\n",
      "620\n"
     ]
    }
   ],
   "source": [
    "counter = 0\n",
    "\n",
    "def row_match(row):\n",
    "    global counter\n",
    "    row = row.astype(str)\n",
    "    pattern = '|'.join(edge_upc_list)\n",
    "    pattern = \"(\" + pattern + \")\"\n",
    "    match_series = row.str.extract(pattern)\n",
    "    match_series = match_series.dropna()\n",
    "    if match_series.empty == False:\n",
    "        counter += 1\n",
    "        return match_series.iloc[0,0]\n",
    "\n",
    "salsify_upc[\"upc\"] = salsify_upc.apply(row_match,axis=1)\n",
    "\n",
    "print(salsify_upc[\"upc\"].notnull().sum())\n",
    "print(counter)\n",
    "\n",
    "#print(salsify_upc.head())"
   ]
  },
  {
   "cell_type": "code",
   "execution_count": 12,
   "id": "09a99716",
   "metadata": {},
   "outputs": [
    {
     "name": "stdout",
     "output_type": "stream",
     "text": [
      "116\n",
      "Index(['EAN 13 - UPC for Sales Packaging', 'EAN-UPC for Inner Case',\n",
      "       'Inner GTIN', 'EAN 14 -UPC for Outer Case', 'Case GTIN', 'Child GTINs',\n",
      "       'Child GTINs.1', 'Child GTINs.2', 'PACKAGES', 'PACKAGES.1',\n",
      "       'PACKAGES.2', 'PACKAGES.3', 'upc'],\n",
      "      dtype='object')\n",
      "620\n",
      "620\n"
     ]
    }
   ],
   "source": [
    "for code in edge_upc_list:\n",
    "    if code not in salsify_upc[\"upc\"].unique():\n",
    "        print(code)\n",
    "        \n",
    "print(len(salsify_upc[\"upc\"].unique()))\n",
    "\n",
    "print(salsify_upc.columns)\n",
    "\n",
    "salsify_upc[\"bool\"] = salsify_upc[\"upc\"].notnull()\n",
    "\n",
    "#use PACKAGES column\n",
    "salsify_upc[\"upc_2\"] = salsify_upc[\"PACKAGES\"]\n",
    "salsify_upc[\"exist_bool\"] = salsify_upc[\"upc\"].isin(edge_upc_list)\n",
    "\n",
    "print(salsify_upc[salsify_upc[\"exist_bool\"] == True].shape[0])\n",
    "print(salsify_upc[salsify_upc[\"bool\"] == True].shape[0])\n",
    "\n",
    "#salsify_upc.to_csv(\"salsify_upc6.csv\")"
   ]
  },
  {
   "cell_type": "code",
   "execution_count": 13,
   "id": "42b51103",
   "metadata": {
    "scrolled": true
   },
   "outputs": [
    {
     "name": "stdout",
     "output_type": "stream",
     "text": [
      "(70330145405|70330185104|70330362055|70330312579|70330341289|70330346857|70330655508|70330730274|70330739789|70330682719|70330189867|70330189874|70330195141|70330730281|70330740945|70330361591|70330522909|70330522916|70330358157|70330355651|70330534117|70330534124|70330534094|70330534100|70330351561|70330432109|70330188389|70330730809|70330437425|70330437432|70330437364|70330196490|70330176331|70330532137|70330524873|70330131620|70330531390|70330524866|70330531383|70330181304|70330739772|70330123465|70330196506|70330719873|70330748262|70330747845|70330748279|70330743274|70330144088|70330522121|70330411715|70330507906|70330530577|70330529793|70330505896|70330508156|70330905764|70330417557|70330426566|70330433649|70330406964|70330417144|70330362086|70330371422|70330722620|70330743489|70330743465|70330743472|70330743496|70330743595|70330743588|70330743571|70330745919|70330723399|70330246232|70330366046|70330364660|70330742192|70330196513|70330343610|70330143470|70330375291|70330338999|70330363281|70330436756|70330436596|70330537392|70330537071|70330373365|70330373372|70330373662|70330537194|70330537200|70330370852|70330370869|70330537163|70330537170|70330535053|70330527461|70330131613|70330747203|70330746800|70330747197|70330748460|70330522138|70330537224|70330537439|70330507456|70330435285|70330437661|70330375468|70330364417|70330536920|70330748309|70330748316)\n",
      "115\n"
     ]
    }
   ],
   "source": [
    "pattern = '|'.join(edge_upc_list)\n",
    "pattern = \"(\" + pattern + \")\"\n",
    "print(pattern)\n",
    "\n",
    "print(len(edge_upc_list))"
   ]
  },
  {
   "cell_type": "code",
   "execution_count": 14,
   "id": "1f59027f",
   "metadata": {},
   "outputs": [],
   "source": [
    "salsify_amzn[\"upc\"] = salsify_upc[\"upc\"]\n",
    "salsify_amzn[\"bool\"] = salsify_upc[\"bool\"]\n",
    "\n",
    "salsify_amzn_true = salsify_amzn[salsify_amzn[\"bool\"] == True]\n",
    "#salsify_amzn_true.to_csv(\"salsify_true3.csv\")"
   ]
  },
  {
   "cell_type": "code",
   "execution_count": 15,
   "id": "cdb37725",
   "metadata": {},
   "outputs": [
    {
     "name": "stdout",
     "output_type": "stream",
     "text": [
      "620\n"
     ]
    }
   ],
   "source": [
    "print(salsify_amzn_true.shape[0])"
   ]
  },
  {
   "cell_type": "code",
   "execution_count": 19,
   "id": "bfe27a47",
   "metadata": {},
   "outputs": [
    {
     "name": "stdout",
     "output_type": "stream",
     "text": [
      "115\n"
     ]
    }
   ],
   "source": [
    "code_list = salsify_amzn_true[\"upc\"].unique()\n",
    "print(len(code_list))\n",
    "freq_bool = salsify_amzn_true[\"upc\"].value_counts().gt(1)\n",
    "\n",
    "dup_codes = salsify_amzn_true[\"upc\"].value_counts()[freq_bool].index\n",
    "\n",
    "#salsify_amzn_true.to_csv(\"salsify_amzn_true.csv\")\n",
    "\n",
    "for code in dup_codes:\n",
    "    temp_df = salsify_amzn_true[salsify_amzn_true[\"upc\"] == code]\n",
    "    \n",
    "    #remove inactive\n",
    "    if temp_df[\"Product status (code)\"].str.contains(\"Active\").any():\n",
    "        temp_df = temp_df[temp_df[\"Product status (code)\"].str.split(\"-\").str[0].str.strip() == \"Active\"]\n",
    "        \n",
    "    #find latest begin ship date\n",
    "    if temp_df[\"Begin Ship Date - en-US\"].notnull().any():\n",
    "        temp_df[\"Begin Ship Date - en-US\"] = pd.to_datetime(temp_df[\"Begin Ship Date - en-US\"])\n",
    "        temp_df = temp_df[temp_df[\"Begin Ship Date - en-US\"] == temp_df[\"Begin Ship Date - en-US\"].max()]\n",
    "        temp_df[\"Begin Ship Date - en-US\"] = temp_df[\"Begin Ship Date - en-US\"].dt.strftime(\"%m/%d/%Y\")\n",
    "\n",
    "    #find latest PIM SKU Creation Date\n",
    "    if temp_df[\"PIM SKU Creation Date\"].notnull().any():\n",
    "        temp_df[\"PIM SKU Creation Date\"] = pd.to_datetime(temp_df[\"PIM SKU Creation Date\"])\n",
    "        temp_df = temp_df[temp_df[\"PIM SKU Creation Date\"] == temp_df[\"PIM SKU Creation Date\"].max()]\n",
    "        temp_df[\"PIM SKU Creation Date\"] = temp_df[\"PIM SKU Creation Date\"].dt.strftime(\"%m/%d/%Y\")\n",
    "    \n",
    "    #find latest end ship date\n",
    "    if temp_df[\"End Ship Date - en-US\"].notnull().any():\n",
    "        temp_df[\"End Ship Date - en-US\"] = pd.to_datetime(temp_df[\"End Ship Date - en-US\"])\n",
    "        temp_df = temp_df[temp_df[\"End Ship Date - en-US\"] == temp_df[\"End Ship Date - en-US\"]]\n",
    "        temp_df[\"End Ship Date - en-US\"] = temp_df[\"End Ship Date - en-US\"].dt.strftime(\"%m/%d/%Y\")\n",
    "\n",
    "    salsify_amzn_true = salsify_amzn_true[salsify_amzn_true[\"upc\"] != code]\n",
    "    salsify_amzn_true = pd.concat([salsify_amzn_true, temp_df])\n",
    "    \n",
    "salsify_amzn_true.to_csv(\"salsify_amzn_final.csv\")"
   ]
  },
  {
   "cell_type": "code",
   "execution_count": 18,
   "id": "17b47f0a",
   "metadata": {},
   "outputs": [
    {
     "name": "stdout",
     "output_type": "stream",
     "text": [
      "115\n"
     ]
    }
   ],
   "source": [
    "print(salsify_amzn_true.shape[0])"
   ]
  },
  {
   "cell_type": "code",
   "execution_count": null,
   "id": "f254ed5a",
   "metadata": {},
   "outputs": [],
   "source": []
  }
 ],
 "metadata": {
  "kernelspec": {
   "display_name": "Python 3",
   "language": "python",
   "name": "python3"
  },
  "language_info": {
   "codemirror_mode": {
    "name": "ipython",
    "version": 3
   },
   "file_extension": ".py",
   "mimetype": "text/x-python",
   "name": "python",
   "nbconvert_exporter": "python",
   "pygments_lexer": "ipython3",
   "version": "3.8.8"
  }
 },
 "nbformat": 4,
 "nbformat_minor": 5
}
